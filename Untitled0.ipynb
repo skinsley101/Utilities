{
  "nbformat": 4,
  "nbformat_minor": 0,
  "metadata": {
    "colab": {
      "name": "Untitled0.ipynb",
      "provenance": [],
      "private_outputs": true,
      "collapsed_sections": [
        "erEOZD7SRe8R",
        "3zE2CwU1Va4l",
        "br0nqg8fYyjC",
        "2kmPuZf_OqRD"
      ],
      "include_colab_link": true
    },
    "kernelspec": {
      "name": "python3",
      "display_name": "Python 3"
    }
  },
  "cells": [
    {
      "cell_type": "markdown",
      "metadata": {
        "id": "view-in-github",
        "colab_type": "text"
      },
      "source": [
        "<a href=\"https://colab.research.google.com/github/skinsley101/Utilities/blob/master/Untitled0.ipynb\" target=\"_parent\"><img src=\"https://colab.research.google.com/assets/colab-badge.svg\" alt=\"Open In Colab\"/></a>"
      ]
    },
    {
      "cell_type": "markdown",
      "metadata": {
        "id": "erEOZD7SRe8R",
        "colab_type": "text"
      },
      "source": [
        "#Net Pay From Gross Pay"
      ]
    },
    {
      "cell_type": "markdown",
      "metadata": {
        "id": "Njyx5ZXmuORO",
        "colab_type": "text"
      },
      "source": [
        "This will estimate your income after tax given your income before tax\n",
        "It won't be totally correct unless you enter the amount annually because the exact amount of tax you pay per week or month will depend on how much you have earned in the rest of the year. But it will be close.\n",
        "\n",
        "Things to enter:\n",
        "- Amount earned. For £136.38 enter 136.38\n",
        "- Period = annually, monthly, or weekly from dropdown\n",
        "- Are you repaying a student loan yes or no from dropdown\n",
        "- If you are then when did you start (ignore otherwise)\n",
        "- How much employee pension do you contribute? For 4.3% enter 4.3\n",
        "\n",
        "Then press the little GO arrow on the left!"
      ]
    },
    {
      "cell_type": "code",
      "metadata": {
        "id": "eqsdQfJn6AVU",
        "colab_type": "code",
        "cellView": "both",
        "colab": {}
      },
      "source": [
        "gross_wage =  30000#@param {type:\"number\"}\n",
        "\n",
        "period = \"Annually\" #@param [\"Monthly\", \"Annually\", \"Weekly\"]\n",
        "\n",
        "sl_elig = \"No\" #@param [\"Yes\", \"No\"]\n",
        "\n",
        "sl_el = 0\n",
        "if sl_elig == \"Yes\":\n",
        "  uni_start_year = 2010 #@param {type:\"slider\", min:1990, max:2019, step:1}\n",
        "  sl_el = 1\n",
        "\n",
        "pension_contr =  1.5#@param {type:\"number\"}\n",
        "pension_contr /= 100\n",
        "  \n",
        "multiplier = {\"Monthly\": 12, \"Annually\": 1, \"Weekly\": 52}\n",
        "a = dict()\n",
        "tot_pay = gross_wage * multiplier[period]\n",
        "post_pay = tot_pay\n",
        "\n",
        "it = (min(post_pay, 50000) - min(post_pay, 12500)) * 0.2 + (min(post_pay, 100000) \n",
        "- min(post_pay, 50000)) * 0.4 + (min(post_pay, 150000) - min(post_pay, 100000)) * 0.45 \n",
        "+ (min(post_pay, 125000) - min(post_pay, 100000)) * 0.5 * 0.2\n",
        "\n",
        "ni = (min(tot_pay, 12 * 4167) - min(tot_pay, 12 * 792)) * 0.12 + max(tot_pay - 12 * 4167, 0) * 0.02\n",
        "sl = 0\n",
        "if sl_el and uni_start_year < 2012:\n",
        "  sl = 0.09 * max(tot_pay - 12 * 1615, 0)\n",
        "elif sl_el:\n",
        "  sl = 0.09 * max(tot_pay - 12 * 2214, 0)\n",
        "\n",
        "pen = pension_contr * tot_pay\n",
        "\n",
        "tot_tax = it + ni + sl + pen\n",
        "tot_net = post_pay - tot_tax\n",
        "net = tot_net / multiplier[period]\n",
        "\n",
        "print(\"Net approximate salary annually is: \", str.format('{0:.2f}', tot_net))\n",
        "print(\"Net approximate monthly salary is: \", str.format('{0:.2f}', tot_net / 12))\n",
        "print(\"Net approximate weekly salary is: \" + str.format('{0:.2f}', tot_net / 52))\n",
        "print(\"Taxes paid in period are\")\n",
        "print(\"Income tax: \", str.format('{0:.2f}', it / multiplier[period]))\n",
        "print(\"Nation insurance: \", str.format('{0:.2f}', ni / multiplier[period]))\n",
        "print(\"Student loan repayments: \", str.format('{0:.2f}', sl / multiplier[period]))\n",
        "print(\"Pensions payment: \", str.format('{0:.2f}', pen / multiplier[period]))\n",
        "\n",
        "import matplotlib.pyplot as plt\n",
        "\n",
        "labels = ['Net Pay', 'Interest Tax', 'National Insurance', 'Student Loan',\n",
        "          'Pension Payment']\n",
        "sizes = [tot_net / tot_pay, it / tot_pay, ni / tot_pay, sl / tot_pay, pension_contr]\n",
        "explode = (0.1, 0, 0, 0, 0)\n",
        "\n",
        "fig1, ax1 = plt.subplots()\n",
        "ax1.pie(sizes, explode=explode, labels=labels, autopct='%1.1f%%',\n",
        "        shadow=True, startangle=90)\n",
        "ax1.axis('equal')  # Equal aspect ratio ensures that pie is drawn as a circle.\n",
        "\n",
        "plt.show()\n"
      ],
      "execution_count": 0,
      "outputs": []
    },
    {
      "cell_type": "markdown",
      "metadata": {
        "id": "3zE2CwU1Va4l",
        "colab_type": "text"
      },
      "source": [
        "# Calculate Amount Earned From Hours"
      ]
    },
    {
      "cell_type": "code",
      "metadata": {
        "id": "NCFNN1nlV3df",
        "colab_type": "code",
        "cellView": "form",
        "colab": {}
      },
      "source": [
        "hourly_wage =  10#@param {type:\"number\"}\n",
        "hours_worked =  1387#@param {type:\"number\"}\n",
        "over_pay = 0 #@param {type:\"number\"}\n",
        "over_hours = 0 #@param {type:\"number\"}\n",
        "period = \"Monthly\" #@param [\"Weekly\", \"Monthly\", \"Annually\"]\n",
        "\n",
        "sl_elig = \"Yes\" #@param [\"Yes\", \"No\"]\n",
        "\n",
        "sl_el = 0\n",
        "if sl_elig == \"Yes\":\n",
        "  uni_start_year = 2010 #@param {type:\"slider\", min:1990, max:2019, step:1}\n",
        "  sl_el = 1\n",
        "\n",
        "pension_contr = 0 #@param {type:\"integer\"}\n",
        "\n",
        "multiplier = {\"Monthly\": 12, \"Annually\": 1, \"Weekly\": 52}\n",
        "\n",
        "\n",
        "tot_pay = float((hourly_wage * hours_worked + over_pay * over_hours) * multiplier[period])\n",
        "post_pay = tot_pay\n",
        "\n",
        "it = (min(post_pay, 50000) - min(post_pay, 12500)) * 0.2 + (min(post_pay, 100000) \n",
        "- min(post_pay, 50000)) * 0.4 + (min(post_pay, 150000) - min(post_pay, 100000)) * 0.45 \n",
        "+ (min(post_pay, 125000) - min(post_pay, 100000)) * 0.5 * 0.2\n",
        "\n",
        "ni = (min(tot_pay, 12 * 4167) - min(tot_pay, 12 * 792)) * 0.12 + max(tot_pay - 12 * 4167, 0) * 0.02\n",
        "sl = 0\n",
        "if sl_el and uni_start_year < 2012:\n",
        "  sl = 0.09 * max(tot_pay - 12 * 1615, 0)\n",
        "elif sl_el:\n",
        "  sl = 0.09 * max(tot_pay - 12 * 2214, 0)\n",
        "\n",
        "pen = pension_contr * tot_pay\n",
        "\n",
        "tot_tax = it + ni + sl + pen\n",
        "tot_net = post_pay - tot_tax\n",
        "net = tot_net / multiplier[period]\n",
        "print(\"Gross pay is: \" + str.format(\"{0:.2f}\", tot_pay / multiplier[period]))\n",
        "print(\"Estimate net pay is: \" + str.format(\"{0:.2f}\", net))\n",
        "print(\"Estimate tax paid is: \" + str.format(\"{0:.2f}\", (tot_tax - pen) / multiplier[period]))\n",
        "print(\"Estimate pension paid is: \" + str.format(\"{0:.2f}\", pen / multiplier[period]))"
      ],
      "execution_count": 0,
      "outputs": []
    },
    {
      "cell_type": "markdown",
      "metadata": {
        "id": "br0nqg8fYyjC",
        "colab_type": "text"
      },
      "source": [
        "# How Much Overtime Should I Work??"
      ]
    },
    {
      "cell_type": "code",
      "metadata": {
        "id": "IDFz1hmdY2td",
        "colab_type": "code",
        "cellView": "form",
        "colab": {}
      },
      "source": [
        "hourly_wage =  10#@param {type:\"number\"}\n",
        "hours_worked =  160#@param {type:\"number\"}\n",
        "over_pay =  12#@param {type:\"number\"}\n",
        "\n",
        "target =  2600#@param {type:\"number\"}\n",
        "target_type = \"after tax\" #@param [\"pre tax\", \"after tax\"]\n",
        "period = \"Monthly\" #@param [\"Weekly\", \"Monthly\", \"Annually\"]\n",
        "\n",
        "sl_elig = \"No\" #@param [\"Yes\", \"No\"]\n",
        "\n",
        "sl_el = 0\n",
        "if sl_elig == \"Yes\":\n",
        "  uni_start_year = 2010 #@param {type:\"slider\", min:1990, max:2019, step:1}\n",
        "  sl_el = 1\n",
        "\n",
        "pension_contr = 0 #@param {type:\"integer\"}\n",
        "\n",
        "multiplier = {\"Monthly\": 12, \"Annually\": 1, \"Weekly\": 52}\n",
        "\n",
        "def ann_pay(tot_pay):\n",
        "  post_pay = tot_pay\n",
        "\n",
        "  it = (min(post_pay, 50000) - min(post_pay, 12500)) * 0.2 + (min(post_pay, 100000) \n",
        "  - min(post_pay, 50000)) * 0.4 + (min(post_pay, 150000) - min(post_pay, 100000)) * 0.45 \n",
        "  + (min(post_pay, 125000) - min(post_pay, 100000)) * 0.5 * 0.2\n",
        "\n",
        "  ni = (min(tot_pay, 12 * 4167) - min(tot_pay, 12 * 792)) * 0.12 + max(tot_pay - 12 * 4167, 0) * 0.02\n",
        "  sl = 0\n",
        "  if sl_el and uni_start_year < 2012:\n",
        "    sl = 0.09 * max(tot_pay - 12 * 1615, 0)\n",
        "  elif sl_el:\n",
        "    sl = 0.09 * max(tot_pay - 12 * 2214, 0)\n",
        "\n",
        "  pen = pension_contr * tot_pay\n",
        "\n",
        "  tot_tax = it + ni + sl + pen\n",
        "  tot_net = post_pay - tot_tax\n",
        "\n",
        "  return [tot_net, post_pay, it, ni, sl, pen]\n",
        "\n",
        "\n",
        "def f(over_hours):\n",
        "  tot_pay = float(hourly_wage * hours_worked + over_pay * over_hours)\n",
        "  \n",
        "  if target_type == \"pre tax\":\n",
        "    return tot_pay - target\n",
        "  else:\n",
        "    tot_pay *= multiplier[period]\n",
        "    pay_dets = ann_pay(tot_pay)\n",
        "    net = pay_dets[0] / multiplier[period]\n",
        "\n",
        "    return net - target\n",
        "\n",
        "from scipy import optimize\n",
        "import math\n",
        "\n",
        "if float(hourly_wage * hours_worked) > target:\n",
        "  hours_needed = 0\n",
        "else:\n",
        "  res = optimize.brentq(f, 0, 20000)\n",
        "  hours_needed = math.ceil(res)\n",
        "\n",
        "pay_dets = ann_pay(float((hourly_wage * hours_worked + over_pay * hours_needed ) * multiplier[period]))\n",
        "\n",
        "print(\"Number of overtime hours needed to work in the period is: \", hours_needed)\n",
        "print(\"In total this will earn you:\")\n",
        "print(\"Before tax: \" + str.format(\"{0:.2f}\", float(hourly_wage * hours_worked + over_pay * hours_needed)))\n",
        "print(\"After tax: \" + str.format(\"{0:.2f}\", pay_dets[0] / multiplier[period]))\n",
        "print(\"In tax you will pay: \" + str.format(\"{0:.2f}\", (pay_dets[2] + pay_dets[3] + pay_dets[4]) / multiplier[period]))\n",
        "print(\"In pension you will pay: \" + str.format(\"{0:.2f}\", pay_dets[5] / multiplier[period]))\n",
        "\n",
        "#print(sl)\n",
        "#print(\"Gross pay is: \" + str.format(\"{0:.2f}\", tot_pay / multiplier[period]))\n",
        "#print(\"Estimate net pay is: \" + str.format(\"{0:.2f}\", net))\n",
        "#print(\"Estimate tax paid is: \" + str.format(\"{0:.2f}\", tot_tax / multiplier[period]))"
      ],
      "execution_count": 0,
      "outputs": []
    },
    {
      "cell_type": "markdown",
      "metadata": {
        "id": "2kmPuZf_OqRD",
        "colab_type": "text"
      },
      "source": [
        "# Overtime Monthly Earnings Table"
      ]
    },
    {
      "cell_type": "code",
      "metadata": {
        "id": "UsVvgG-aTwIN",
        "colab_type": "code",
        "cellView": "both",
        "colab": {}
      },
      "source": [
        "hourly_wage =  10#@param {type:\"number\"}\n",
        "hours_worked =  160#@param {type:\"number\"}\n",
        "over_pay =  12#@param {type:\"number\"}\n",
        "\n",
        "period = \"Monthly\"\n",
        "\n",
        "sl_elig = \"No\" #@param [\"Yes\", \"No\"]\n",
        "\n",
        "sl_el = 0\n",
        "if sl_elig == \"Yes\":\n",
        "  uni_start_year = 2010 #@param {type:\"slider\", min:1990, max:2019, step:1}\n",
        "  sl_el = 1\n",
        "\n",
        "pension_contr = 0 #@param {type:\"integer\"}\n",
        "\n",
        "multiplier = {\"Monthly\": 12, \"Annually\": 1, \"Weekly\": 52}\n",
        "\n",
        "def ann_pay(tot_pay):\n",
        "  post_pay = tot_pay\n",
        "\n",
        "  it = (min(post_pay, 50000) - min(post_pay, 12500)) * 0.2 + (min(post_pay, 100000) \n",
        "  - min(post_pay, 50000)) * 0.4 + (min(post_pay, 150000) - min(post_pay, 100000)) * 0.45 \n",
        "  + (min(post_pay, 125000) - min(post_pay, 100000)) * 0.5 * 0.2\n",
        "\n",
        "  ni = (min(tot_pay, 12 * 4167) - min(tot_pay, 12 * 792)) * 0.12 + max(tot_pay - 12 * 4167, 0) * 0.02\n",
        "  sl = 0\n",
        "  if sl_el and uni_start_year < 2012:\n",
        "    sl = 0.09 * max(tot_pay - 12 * 1615, 0)\n",
        "  elif sl_el:\n",
        "    sl = 0.09 * max(tot_pay - 12 * 2214, 0)\n",
        "\n",
        "  pen = pension_contr * tot_pay\n",
        "\n",
        "  tot_tax = it + ni + sl + pen\n",
        "  tot_net = post_pay - tot_tax\n",
        "\n",
        "  return [tot_net, post_pay, it, ni, sl, pen]\n",
        "\n",
        "over_opts = [0, 10, 15, 20, 25, 30, 35, 40, 45, 50]\n",
        "from tabulate import tabulate\n",
        "data = [[]] * len(over_opts)\n",
        "for i in range(len(over_opts)):\n",
        "  opt = over_opts[i]\n",
        "  pay = ann_pay((hourly_wage * hours_worked + over_pay * opt) * multiplier[period])\n",
        "  data[i] = [opt, str.format(\"{0:.2f}\", (hourly_wage * hours_worked + over_pay * opt) / 12),\n",
        "             str.format(\"{0:.2f}\", pay[0] / 12)]\n",
        "\n",
        "print(tabulate(data, headers=['Overtime hours', 'Gross Pay', 'Net Pay']))"
      ],
      "execution_count": 0,
      "outputs": []
    }
  ]
}